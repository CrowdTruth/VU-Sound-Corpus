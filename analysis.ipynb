{
 "metadata": {
  "name": "",
  "signature": "sha256:09e714f13115af53d665de46c9a6ae11470bbd73fe5d3c2ef852c8b5c47a1acb"
 },
 "nbformat": 3,
 "nbformat_minor": 0,
 "worksheets": [
  {
   "cells": [
    {
     "cell_type": "markdown",
     "metadata": {},
     "source": [
      "# Understanding the characteristics of sound tags\n",
      "Sounds are ambiguous and can be interpreted in many ways. For instance, a bursting balloon can sound exactly like a gun shot. This results in annotations of those sounds not representing all that can be heared in a sound. Furthermore, sounds often do no have any descriptions at all. If an expert such as the uploader annotated a sound, these terms have shown to be too specific. This all results in a poor ranking of search results. In order to improve this, we need to get a better understanding of the characteristics of sound tags."
     ]
    },
    {
     "cell_type": "code",
     "collapsed": true,
     "input": [
      "# coding=utf-8\n",
      "import csv\n",
      "import nltk\n",
      "from nltk.tag import pos_tag, map_tag\n",
      "from nltk.corpus import wordnet\n",
      "from nltk.corpus import words as wordset\n",
      "global wordslist\n",
      "wordlist = set(wordset.words())\n",
      "import itertools\n",
      "from collections import defaultdict, Counter\n",
      "from itertools import combinations,product,permutations\n",
      "from matplotlib_venn import venn3, venn3_circles\n",
      "import pylab as plt\n",
      "import numpy\n",
      "import codecs\n",
      "import re\n",
      "from tabulate import tabulate\n",
      "import seaborn as sns\n",
      "import pandas as pd\n",
      "from scipy import stats as sts\n",
      "#cd \"C:\\Users\\IBM_ADMIN\\Dropbox\\Watson-Crowdsourcing\\Experiments\\Sound Annotations (Benjamin)\\Analysis\"\n",
      "%cd \"D:\\Users\\Benjamin\\Dropbox\\Watson-Crowdsourcing\\Experiments\\Sound Annotations (Benjamin)\\Analysis\"\n"
     ],
     "language": "python",
     "metadata": {},
     "outputs": [
      {
       "output_type": "stream",
       "stream": "stdout",
       "text": [
        "D:\\Users\\Benjamin\\Dropbox\\Watson-Crowdsourcing\\Experiments\\Sound Annotations (Benjamin)\\Analysis\n"
       ]
      }
     ],
     "prompt_number": 1
    },
    {
     "cell_type": "code",
     "collapsed": false,
     "input": [
      "\"load vector space model (this takes a few minutes)\"\n",
      "from gensim.models import Word2Vec\n",
      "global model\n",
      "global vocab\n",
      "googlenews = 'c:/GoogleNews-vectors-negative300.bin.gz'\n",
      "model      = Word2Vec.load_word2vec_format(googlenews, binary=True)\n",
      "vocab      = set(model.vocab.keys())\n",
      "print \"Done loading GoogleNews vector space model.\""
     ],
     "language": "python",
     "metadata": {},
     "outputs": [
      {
       "output_type": "stream",
       "stream": "stdout",
       "text": [
        "Done loading GoogleNews vector space model.\n"
       ]
      }
     ],
     "prompt_number": 2
    },
    {
     "cell_type": "code",
     "collapsed": false,
     "input": [
      "def analyze(collections):\n",
      "\n",
      "    corpuses = {}\n",
      "    vocabs = {}\n",
      "    stats = {}\n",
      "\n",
      "    # create corpus for each collection\n",
      "    for col in collections:\n",
      "        corpuses[col], vocabs[col], stats[col] = corpus_stats(collections[col])         \n",
      "\n",
      "    # print all results in a table\n",
      "    print tabulate([[col]+stats[col] for col in stats], headers=['Name', 'Sounds', 'Terms', 'Terms UQ', 'Terms / Snd', 'Term len', 'Words', 'Words UQ', 'Words / Term', 'Sp. Chars', 'Phrases'])\n",
      "\n",
      "    return corpuses, vocabs\n",
      "\n",
      "def levenshtein(s, t):\n",
      "        ''' From Wikipedia article; Iterative with two matrix rows. '''\n",
      "        if s == t: return 0\n",
      "        elif len(s) == 0: return len(t)\n",
      "        elif len(t) == 0: return len(s)\n",
      "        v0 = [None] * (len(t) + 1)\n",
      "        v1 = [None] * (len(t) + 1)\n",
      "        for i in range(len(v0)):\n",
      "            v0[i] = i\n",
      "        for i in range(len(s)):\n",
      "            v1[0] = i + 1\n",
      "            for j in range(len(t)):\n",
      "                cost = 0 if s[i] == t[j] else 1\n",
      "                v1[j + 1] = min(v1[j] + 1, v0[j + 1] + 1, v0[j] + cost)\n",
      "            for j in range(len(v0)):\n",
      "                v0[j] = v1[j]\n",
      " \n",
      "        return v1[len(t)]\n",
      "\n",
      "def lexical_types(corpus):\n",
      "    pos = {'NOUN':[], 'VERB':[], 'ADJ':[], 'ADP':[], 'ADV':[], 'NUM':[], 'PRON':[], 'DET':[], '.':[], 'PRT':[], 'X':[], 'CONJ':[]} \n",
      "    for cc in corpus:\n",
      "        tags = nltk.pos_tag(nltk.word_tokenize(cc))\n",
      "        for word, tag in tags:\n",
      "            pos[map_tag('en-ptb', 'universal', tag)].append(word)\n",
      "    return pos\n",
      "\n",
      "\n",
      "def corpus_stats(collection):\n",
      "\n",
      "    # list of sounds used\n",
      "    sounds = set(collection.keys())\n",
      "    \n",
      "    # count number of sounds\n",
      "    sound_count = len(sounds)\n",
      "    \n",
      "    # list of all terms in the collections\n",
      "    # All text is made lowercase and split on a comma.\n",
      "    terms = [terms for sound in collection for terms in collection[sound]]\n",
      "\n",
      "    # count terms\n",
      "    term_count = len(terms)\n",
      "    \n",
      "    # average number of terms per sound\n",
      "    terms_per_sound = float(term_count) / sound_count\n",
      "    \n",
      "    # unique terms in the collections\n",
      "    corpus = set(terms)\n",
      "    \n",
      "    # count unique terms\n",
      "    corpus_count = len(corpus)\n",
      "    \n",
      "    # Character count\n",
      "    characters = float(sum([len(term) for term in corpus]))\n",
      "    term_length = characters / corpus_count\n",
      "\n",
      "    # Word count per term\n",
      "    # All underscores are considered word seperators\n",
      "    words = [word for term in terms for word in term.replace('_',' ').replace('.',' ').split()]\n",
      "    word_count = len(words)\n",
      "    words_per_term = float(word_count) / corpus_count\n",
      "\n",
      "    #vocab = set(words)\n",
      "    voc = set(words)\n",
      "    vocab_count = len(voc)\n",
      "  \n",
      "    # Special characters\n",
      "    special_count = float([char.isalnum() for char in term for term in corpus].count(True)) / characters\n",
      "    \n",
      "    # Number of phrases\n",
      "    phrase_count = sum([len(term.split('.')) for term in corpus])\n",
      "    phrases_per_term = float(phrase_count) / corpus_count  \n",
      "    \n",
      "    # Granularity (how to measure?)\n",
      "    # Specificity (abstracts, specific, general)\n",
      "    # Actions/Objects \n",
      "    \n",
      "    stats = [sound_count, term_count, len(corpus), terms_per_sound, term_length, word_count, vocab_count, words_per_term, special_count, phrases_per_term]\n",
      "    \n",
      "    return corpus, voc, stats\n",
      "\n",
      "def keyword_list(row):\n",
      "    \"Helper function to generate the list of tags associated with the id.\"\n",
      "\n",
      "    count = int(row[8]) * 2 + 18\n",
      "    l = row[18:count] # keywords start in column 18\n",
      "    return \",\".join([w for i in xrange(0,len(l)-1,2)\n",
      "                for w in [l[i]]*int(l[i+1])])"
     ],
     "language": "python",
     "metadata": {},
     "outputs": [],
     "prompt_number": 2
    },
    {
     "cell_type": "markdown",
     "metadata": {},
     "source": [
      "# Datasets\n",
      "For this research, 2148 sounds effects are used from freesound.org. Three sets were created: short sounds up to two seconds, sounds from four to five seconds and sounds from 15 to 20 seconds. The sound length in the freesound.org dataset has an exponential distribution, causing most sounds to be short."
     ]
    },
    {
     "cell_type": "code",
     "collapsed": false,
     "input": [
      "with open('data/crowd.csv') as f:\n",
      "    reader = csv.reader(f)\n",
      "    reader.next() # skip the top row, which contains the header.\n",
      "    d = [float(row[4]) for row in reader]\n",
      "print \"Sounds: \", len(d)\n",
      "print \"Average length: \", np.mean(d)\n",
      "x = pd.Series(d, name=\"Sound length (seconds)\")\n",
      "sns.plt.xlim(0,30)\n",
      "sns.distplot(x);"
     ],
     "language": "python",
     "metadata": {},
     "outputs": [
      {
       "output_type": "stream",
       "stream": "stdout",
       "text": [
        "Sounds:  2148\n",
        "Average length:  4.18049995354\n"
       ]
      },
      {
       "metadata": {},
       "output_type": "display_data",
       "png": "[encoded data removed]",
       "text": [
        "<matplotlib.figure.Figure at 0x15b717f0>"
       ]
      }
     ],
     "prompt_number": 243
    },
    {
     "cell_type": "code",
     "collapsed": false,
     "input": [
      "# load crowd terms\n",
      "def crowd_dict():\n",
      "    \"Create a dictionary: k=id, v=list of tags associated with the id.\"\n",
      "   \n",
      "    # Open the file:\n",
      "    with open('data/crowd.csv') as f:\n",
      "        reader = csv.reader(f)\n",
      "        reader.next() # skip the top row, which contains the header.\n",
      "        d = {row[0]:keyword_list(row) for row in reader}\n",
      "        return d\n",
      "\n",
      "# load freesound terms. keywords annotated by the uploaders\n",
      "def expert_dict():\n",
      "    \"Create a dictionary: k=id, v=list of tags associated with the id.\"\n",
      "\n",
      "    # Open the file:\n",
      "    with open('data/crowd.csv') as f:\n",
      "        reader = csv.reader(f)\n",
      "        reader.next() # skip the top row, which contains the header.\n",
      "        d = {row[0]:row[3] for row in reader}\n",
      "        return d\n",
      "\n",
      "\n",
      "# load specific part of the search terms\n",
      "def search_dict(start, stop):\n",
      "    with open('data/search.csv') as f:\n",
      "        reader = csv.reader(f)\n",
      "        counts = dict((row[0],row[1]) for row in itertools.islice(reader, start, stop))\n",
      "    return counts\n",
      "\n",
      "# load sound lengths\n",
      "def sound_lengths():\n",
      "    # Open the file:\n",
      "    with open('data/crowd.csv') as f:\n",
      "        reader = csv.reader(f)\n",
      "        reader.next() # skip the top row, which contains the header.\n",
      "        d = {row[0]:float(row[4]) for row in reader}\n",
      "        return d\n",
      "    \n",
      "# load subjectivity dict \n",
      "def subjectivity():\n",
      "    # Open the file:\n",
      "    with open('data/subjectivity.csv') as f:\n",
      "        reader = csv.reader(f)\n",
      "        reader.next() # skip the top row, which contains the header.\n",
      "        data = {row[2]:{'t':row[0],'p':row[4]} for row in reader}\n",
      "        return data"
     ],
     "language": "python",
     "metadata": {},
     "outputs": [],
     "prompt_number": 8
    },
    {
     "cell_type": "markdown",
     "metadata": {},
     "source": [
      "# H1: Experts use a different vocabulary to describe sounds in sentences than with tags.\n",
      "Method: Compare words used in titles, descriptions and tags."
     ]
    },
    {
     "cell_type": "code",
     "collapsed": false,
     "input": [
      "def tokenize(sounds):\n",
      "    termCount = 0\n",
      "    for collection in sounds:\n",
      "        for sentence in sounds[collection]:\n",
      "            sounds[collection][sentence] = re.split(\"[,]\", sounds[collection][sentence].lower())\n",
      "            termCount += len(sounds[collection][sentence])\n",
      "    print \"Tokenized\", termCount, \"terms\"\n",
      "    return sounds\n",
      "   # return [term for sent in collection for term in collection[sent].lower().split(',')]\n",
      "    \n",
      "def create_corpus(sounds):\n",
      "    # Create corpus of sounds. Add values so we can keep track of the originals\n",
      "    terms = {term:[term] for collection in sounds for sound in sounds[collection] for term in sounds[collection][sound]}\n",
      "    print \"Created corpus of\", len(terms), \"unique terms\"\n",
      "    return terms\n",
      "\n",
      "def replace_tags(sounds, mapping):\n",
      "    for col in sounds:\n",
      "        for sound in sounds[col]:\n",
      "            sounds[col][sound] = [mapping[tag] for tag in sounds[col][sound]]\n",
      "    return sounds"
     ],
     "language": "python",
     "metadata": {},
     "outputs": [],
     "prompt_number": 3
    },
    {
     "cell_type": "code",
     "collapsed": false,
     "input": [
      "# load data\n",
      "with open('data/crowd.csv') as f:\n",
      "    reader = csv.reader(f)\n",
      "    reader.next() # skip the top row, which contains the header.\n",
      "    \n",
      "    sounds = {'titles':{},'descr':{},'tags':{}}\n",
      "    for row in reader:\n",
      "        sounds['titles'][row[0]] = row[1]\n",
      "        sounds['descr'][row[0]] = row[2]\n",
      "        sounds['tags'][row[0]] = row[3]\n",
      "       # sounds['crowd'][row[0]] = keyword_list(row)\n",
      "\n",
      "\n",
      "# First we detect tags by splitting on commas and periods.\n",
      "sounds = tokenize(sounds)\n",
      "\n",
      "# Create corpus of all tags\n",
      "corpus = create_corpus(sounds)\n",
      "\n",
      "\n",
      "# Run several functions to match similar tags\n",
      "corpus = clean(corpus, check_dashes)\n",
      "corpus = clean(corpus, check_underscores)\n",
      "corpus = clean(corpus, check_strip)\n",
      "corpus = clean(corpus, check_spaces)\n",
      "#corpus = clean(corpus, check_spelling)\n",
      "corpus = clean(corpus, check_order)\n",
      "corpus = clean(corpus, check_morphology)\n",
      "corpus = clean(corpus, check_inclusion)\n",
      "corpus = clean(corpus, check_synonyms)\n",
      "\n",
      "#print corpus\n",
      "\n",
      "#print corpus\n",
      "\n",
      "# Create mapping of old to new tags\n",
      "mapping = {old:new for new in corpus for old in corpus[new]}\n",
      "\n",
      "# Replace tags with new in corpus\n",
      "sounds = replace_tags(sounds, mapping)\n",
      "#print sounds\n",
      "\n",
      "# Show results\n",
      "corpuses, vocabs = analyze(sounds)\n",
      "\n",
      "# Vocabulary overlap\n",
      "venn3([vocabs['titles'], vocabs['descr'], vocabs['tags']], ('Titles', 'Descr', 'Tags'))\n",
      "\n",
      "#print vocabs['descr']-vocabs['titles']-vocabs['tags']"
     ],
     "language": "python",
     "metadata": {},
     "outputs": [
      {
       "output_type": "stream",
       "stream": "stdout",
       "text": [
        "Tokenized 25218 terms\n",
        "Created corpus of 5673 unique terms\n",
        "5673 was reduced to 5669 using check_dashes\n",
        "5669 was reduced to 5669 using check_underscores\n",
        "5669"
       ]
      },
      {
       "output_type": "stream",
       "stream": "stdout",
       "text": [
        " was reduced to 5612 using check_strip\n",
        "5612 was reduced to 5590 using check_spaces\n",
        "5590 was reduced to 5589 using check_order\n",
        "5589"
       ]
      },
      {
       "output_type": "stream",
       "stream": "stdout",
       "text": [
        " was reduced to 5414 using check_morphology\n",
        "5414"
       ]
      },
      {
       "output_type": "stream",
       "stream": "stdout",
       "text": [
        " was reduced to 4945 using check_inclusion\n",
        "4945"
       ]
      },
      {
       "output_type": "stream",
       "stream": "stdout",
       "text": [
        " was reduced to 4737 using check_synonyms\n",
        "Name      Sounds    Terms    Terms UQ    Terms / Snd    Term len    Words    Words UQ    Words / Term    Sp. Chars    Phrases\n",
        "------  --------  -------  ----------  -------------  ----------  -------  ----------  --------------  -----------  ---------\n",
        "titles      2147     2160        2073        1.00605    16.2759      5597        2350         2.69995    0.430083           1\n",
        "descr       2147     3960        1248        1.84443    56.9551     39639        3153        31.762      0.0702307          1\n",
        "tags        2147    19098        1597        8.8952      7.07138    60331        1587        37.7777     0.84849            1"
       ]
      },
      {
       "output_type": "stream",
       "stream": "stdout",
       "text": [
        "\n"
       ]
      },
      {
       "metadata": {},
       "output_type": "pyout",
       "prompt_number": 8,
       "text": [
        "<matplotlib_venn._common.VennDiagram instance at 0x000000000BF93188>"
       ]
      },
      {
       "metadata": {},
       "output_type": "display_data",
       "png": "[encoded data removed]",
       "text": [
        "<matplotlib.figure.Figure at 0xbf70400>"
       ]
      }
     ],
     "prompt_number": 8
    },
    {
     "cell_type": "markdown",
     "metadata": {},
     "source": [
      "In order to clean the data, several functions are ran"
     ]
    },
    {
     "cell_type": "code",
     "collapsed": false,
     "input": [
      "def check_dashes(l):\n",
      "    \"Normalizes strings by replacing all dashes by spaces.\"\n",
      "    r = defaultdict(list)\n",
      "    for w in l:\n",
      "        r[w.replace('-',' ')] += l[w]\n",
      "    return r\n",
      "\n",
      "def check_underscores(l):\n",
      "    \"Normalizes strings by replacing all underscores by spaces.\"\n",
      "    r = defaultdict(list)\n",
      "    for w in l:\n",
      "        r[w.replace('_',' ')] += l[w]\n",
      "    return r\n",
      "\n",
      "def check_strip(l):\n",
      "    \"Remove all extra spaces\"\n",
      "    r = defaultdict(list)\n",
      "    pattern = re.compile('([^\\s\\w]|_)+')\n",
      "    for w in l:\n",
      "        t = pattern.sub('', w)\n",
      "        r[re.sub(' +',' ', t.strip())] += l[w]\n",
      "    return r\n",
      "\n",
      "def check_spaces(l):\n",
      "    \"Proposes pairs (a,b) where a is equal to b without a space.\"\n",
      "    r = defaultdict(list)\n",
      "    for w in l:\n",
      "        # Merge if the same cluster is present with and without spaces\n",
      "        if ' ' in w and ''.join(w.split()) in l:\n",
      "            r[''.join(w.split())] += l[w]\n",
      "        else:\n",
      "            r[w] += l[w]\n",
      "    return r\n",
      "\n",
      "def check_spelling(l,threshold=1):\n",
      "    \"\"\"Proposes pairs (a,b) where b is the spell-corrected version of a.\n",
      "    \n",
      "    This function makes use of an extensive word list. If a word A is not in the\n",
      "    list and it has a smaller Levenshtein distance to another word B in l than\n",
      "    the threshold, then we assume that B is the correct spelling of A.\"\"\"\n",
      "    \n",
      "    \n",
      "    # First, we get a list of all words that are not in our dictionary\n",
      "    no_words = set([w for w in l if w not in wordlist])\n",
      "    print no_words\n",
      "    \n",
      "    \n",
      "    \n",
      "#    for a,b in combinations(l,2):\n",
      "#        if len(a) > 3 and len(b) > 3:\n",
      "#            if a in wordlist and not b in wordlist:\n",
      "#                if levenshtein(a,b) <= threshold:\n",
      "#                    pairs.append((b,a))\n",
      "#            elif b in wordlist and not a in wordlist:\n",
      "#                if levenshtein(a,b) <= threshold:\n",
      "#                    pairs.append((a,b))\n",
      "    \n",
      "    return pairs\n",
      "\n",
      "def check_order(l):\n",
      "    \"\"\"Eliminates order variation in multiword expressions, by taking all order-\n",
      "    variants and mapping them to a string where all words are sorted alphabetically.\"\"\"\n",
      "    \n",
      "    r = defaultdict(list)\n",
      "    for w in l:\n",
      "        # Merge if the same cluster is present in alphabetic order \n",
      "        if ' ' in w and ' '.join(sorted(w.split(' '))) in l:\n",
      "            r[' '.join(sorted(w.split(' ')))] += l[w]\n",
      "        else:\n",
      "            r[w] += l[w]\n",
      "    return r\n",
      "\n",
      "def check_morphology(l):\n",
      "    \"\"\"Proposes reductions of words to their stem if the stem or another\n",
      "    morphological variant is also present in l\"\"\"\n",
      "    r = defaultdict(list)\n",
      "    tags  = set(l)\n",
      "    pairs = []\n",
      "    for w in l:\n",
      "        if w.endswith('s'):\n",
      "            stem     = w[:-1]\n",
      "            variants = set([stem + suffix for suffix in ['','ed','ing']])\n",
      "            if not variants.isdisjoint(tags):\n",
      "                r[stem] += l[w]\n",
      "            else:\n",
      "                r[w] += l[w]\n",
      "        elif w.endswith('ed'):\n",
      "            stem     = w[:-2]\n",
      "            variants = set([stem + suffix for suffix in ['','s','ing']])\n",
      "            if not variants.isdisjoint(tags):\n",
      "                r[stem] += l[w]\n",
      "            else:\n",
      "                r[w] += l[w]\n",
      "        elif w.endswith('ing'):\n",
      "            stem = w[:-3]\n",
      "            variants = set([stem + suffix for suffix in ['','ed','s']])\n",
      "            if not variants.isdisjoint(tags):\n",
      "                r[stem] += l[w]\n",
      "            else:\n",
      "                r[w] += l[w]\n",
      "        else:\n",
      "            r[w] += l[w]\n",
      "    return r\n",
      "\n",
      "\n",
      "def check_inclusion(l):\n",
      "    \"Proposes pairs (a,b) where b contains a space and a is included in b.\"\n",
      "    space_terms = [w for w in l if ' ' in w]\n",
      "    space_terms.sort(key = len, reverse = True)\n",
      "\n",
      "    def find_inclusion(w, space_terms):\n",
      "        for st in space_terms:\n",
      "            if set(st.split()).issubset(w.split()) and w is not st:\n",
      "                return st\n",
      "        return False\n",
      "    \n",
      "    r = defaultdict(list)\n",
      "    for w in l:\n",
      "        # Find first term that includes this term\n",
      "        st = find_inclusion(w, space_terms)\n",
      "        if(st):\n",
      "            r[st] += l[w]\n",
      "        else:\n",
      "            r[w] += l[w]\n",
      "\n",
      "    return r\n",
      "\n",
      "def check_substring(l):\n",
      "    \"Proposes pairs (a,b) where b contains a space and a is a substring of b.\"\n",
      "    words       = set(l)\n",
      "    space_words = set([w for w in l if ' ' in w])\n",
      "    nospace     = words - space_words\n",
      "    return [(w,sw) for w,sw in product(nospace,space_words) if w in sw]\n",
      "\n",
      "def check_synonyms(l):\n",
      "  \n",
      "    r = defaultdict(list)\n",
      "    for w in l:\n",
      "        # Find synsets of word\n",
      "        no_match = True\n",
      "        for ss in wordnet.synsets(w):\n",
      "            # if the current word is a synonym of a synset\n",
      "            if w in ss.lemma_names()[1:] and ss.lemma_names()[0] in l:\n",
      "                r[ss.lemma_names()[0]] += l[w]\n",
      "                no_match = False\n",
      "                break\n",
      "        if no_match:\n",
      "            r[w] += l[w]\n",
      "\n",
      "    return r\n",
      "\n",
      "def clean(l,check_function):\n",
      "    \"\"\"General function that takes a list of tags-to-be-cleaned and a cleaning\n",
      "    function (defined below) and returns a cleaned list.\"\"\"\n",
      "\n",
      "    result = check_function(l)\n",
      "    print len(l), \"was reduced to\", len(result), \"using\", check_function.func_name\n",
      "    \n",
      "    return result\n",
      "\n",
      "def changed(d,check_function):\n",
      "    \"Returns the keys of the items for which changes are proposed.\"\n",
      "    return [k for k in d if not check_function(d[k]) == set([])]"
     ],
     "language": "python",
     "metadata": {},
     "outputs": [],
     "prompt_number": 4
    },
    {
     "cell_type": "markdown",
     "metadata": {},
     "source": [
      "# Create collections\n",
      "First we load the search results. For each search term, the search frequency is known. A dictionary is made with all unique search terms.\n",
      "Second, a similar set is made with only the top 200 search results.\n",
      "\n",
      "The crowdsourced and expert terms are loaded. \n",
      "\n",
      "Another set is made with expert terms, for the sounds occuring in both the expert and crowd set. These are simply the same sounds as the crowdsourcing set, except with the expert terms.\n",
      "\n",
      "Finally, a set is made which contains the terms from both crowdsourcing and experts combined."
     ]
    },
    {
     "cell_type": "code",
     "collapsed": false,
     "input": [
      "def load_collections():\n",
      "\n",
      "    data = {}\n",
      "    search_count = search_dict(0,4999)\n",
      "    data['search'] = {0:search_count.keys()}\n",
      "\n",
      "    # top searches\n",
      "    search_head_count = search_dict(0,52) # top 100 search terms with frequency\n",
      "    data['search_head'] = {0:search_head_count.keys()} # top 100 search terms\n",
      "    \n",
      "    # tail of searches\n",
      "    search_tail_count = search_dict(53,4999) # top 100 search terms with frequency\n",
      "    data['search_tail'] = {0:search_tail_count.keys()} # top 100 search terms    \n",
      "\n",
      "    data['crowd'] = crowd_dict() # crowdsourced keywords\n",
      "#    data['expert'] = freesound_dict() # expert keywords\n",
      "    expert_all = freesound_dict()\n",
      "\n",
      "    # get a list of all sounds that occur in both the crowd and expert sets\n",
      "    # these sounds are used for further comparison\n",
      "    # create set with expert tags that were also crowdsourced    \n",
      "    data['expert'] = {sound:expert_all[sound] for sound in data['crowd'].keys()}\n",
      "\n",
      "# create set with expert and crowd tags that were crowdsourced\n",
      "    data['combined'] = {i:data['crowd'][i] | data['expert'][i] for i in data['crowd']}\n",
      "    \n",
      "    return data"
     ],
     "language": "python",
     "metadata": {},
     "outputs": [],
     "prompt_number": 117
    },
    {
     "cell_type": "markdown",
     "metadata": {},
     "source": [
      "# H2: The crowd can generate a lexicon of sound descriptions\n",
      "Method: Match crowd terms to english dictionary. Use cleanup functions to remove spelling errors etc.\n",
      "\n",
      "We use several functions to clean up the corpus. First, strings are normalized by replacing all dashes and underscores by spaces. Next, all extra spaces are stripped and multi-word terms that exist without spaces are clustered. Next we cluster all multi-word terms that also occur in a different order. Following this, stemming is applied by clustering morphological differences and words are clustered if they are included in a multi-word term. Last, the terms are clustered by matching synonyms using wordnet.\n",
      "\n",
      "We compare the words in the set of expert tags and crowd tags to the nltk word list to see how well it matches this dictionary."
     ]
    },
    {
     "cell_type": "code",
     "collapsed": false,
     "input": [
      "# load data\n",
      "with open('data/crowd.csv') as f:\n",
      "    reader = csv.reader(f)\n",
      "    reader.next() # skip the top row, which contains the header.\n",
      "    \n",
      "    sounds = {'tags':{}, 'crowd':{}}\n",
      "    for row in reader:\n",
      "        sounds['tags'][row[0]] = row[3]\n",
      "        sounds['crowd'][row[0]] = keyword_list(row)\n",
      "\n",
      "\n",
      "# First we detect tags by splitting on commas and periods.\n",
      "sounds = tokenize(sounds)\n",
      "\n",
      "# Create corpus of all tags\n",
      "corpus = create_corpus(sounds)\n",
      "\n",
      "\n",
      "# Run several functions to match similar tags\n",
      "corpus = clean(corpus, check_dashes)\n",
      "corpus = clean(corpus, check_underscores)\n",
      "corpus = clean(corpus, check_strip)\n",
      "corpus = clean(corpus, check_spaces)\n",
      "#corpus = clean(corpus, check_spelling)\n",
      "corpus = clean(corpus, check_order)\n",
      "corpus = clean(corpus, check_morphology)\n",
      "corpus = clean(corpus, check_inclusion)\n",
      "#corpus = clean(corpus, check_substring)\n",
      "corpus = clean(corpus, check_synonyms)\n",
      "\n",
      "\n",
      "#print corpus\n",
      "\n",
      "#print corpus\n",
      "\n",
      "# Create mapping of old to new tags\n",
      "mapping = {old:new for new in corpus for old in corpus[new]}\n",
      "\n",
      "# Replace tags with new in corpus\n",
      "sounds = replace_tags(sounds, mapping)\n",
      "#print sounds\n",
      "\n",
      "# Show results\n",
      "#sounds['dict'] = {'0':wordlist}\n",
      "corpuses, vocabs = analyze(sounds)\n",
      "\n",
      "# Vocabulary overlap\n",
      "venn3([vocabs['tags'], vocabs['crowd'], wordlist], ('Experts', 'Crowd', 'Dict'))\n",
      "\n",
      "\n",
      "# plot overlap"
     ],
     "language": "python",
     "metadata": {},
     "outputs": [
      {
       "output_type": "stream",
       "stream": "stdout",
       "text": [
        "Tokenized 55073 terms\n",
        "Created corpus of 8397 unique terms\n",
        "8397 was reduced to 8335 using check_dashes\n",
        "8335 was reduced to 8335 using check_underscores\n",
        "8335"
       ]
      },
      {
       "output_type": "stream",
       "stream": "stdout",
       "text": [
        " was reduced to 8310 using check_strip\n",
        "8310 was reduced to 8211 using check_spaces\n",
        "8211 was reduced to 8145 using check_order\n",
        "8145 was reduced to 7472 using check_morphology\n",
        "7472"
       ]
      },
      {
       "output_type": "stream",
       "stream": "stdout",
       "text": [
        " was reduced to 6941 using check_inclusion\n",
        "6941"
       ]
      },
      {
       "output_type": "stream",
       "stream": "stdout",
       "text": [
        " was reduced to 6392 using check_synonyms\n",
        "Name      Sounds    Terms    Terms UQ    Terms / Snd    Term len    Words    Words UQ    Words / Term    Sp. Chars    Phrases\n",
        "------  --------  -------  ----------  -------------  ----------  -------  ----------  --------------  -----------  ---------\n",
        "dict           1   235892      235892    235892          9.56903   235892      235892         1           0.313511          1\n",
        "crowd       2147    35975        5603        16.7559    10.6821     45962        4229         8.20311     0.561685          1\n",
        "tags        2147    19098        1638         8.8952     6.97802    20327        1636        12.4096      0.859843          1"
       ]
      },
      {
       "output_type": "stream",
       "stream": "stdout",
       "text": [
        "\n"
       ]
      },
      {
       "metadata": {},
       "output_type": "pyout",
       "prompt_number": 15,
       "text": [
        "<matplotlib_venn._common.VennDiagram instance at 0x0000000017720508>"
       ]
      },
      {
       "metadata": {},
       "output_type": "display_data",
       "png": "[encoded data removed]",
       "text": [
        "<matplotlib.figure.Figure at 0xa9048d0>"
       ]
      }
     ],
     "prompt_number": 15
    },
    {
     "cell_type": "code",
     "collapsed": false,
     "input": [
      "#for word in sorted(list(vocabs['tags']-vocabs['crowd']-wordlist)):\n",
      "for word in sorted(list(vocabs['crowd']-vocabs['tags']-wordlist)):\n",
      "    print word"
     ],
     "language": "python",
     "metadata": {},
     "outputs": []
    },
    {
     "cell_type": "markdown",
     "metadata": {},
     "source": [
      "# H3: The terms people search for and the expert tags don\u2019t overlap, crowd annotations do overlap with search.\n",
      "Method: Search vs crowd vs expert semantics comparison\n",
      "\n",
      "For each set, we present the number of basic statistics and comparison of the terms used.\n",
      "\n",
      "The results show that the crowd set overlaps the most with the search terms (38%). Though, the crowd set is also larger with 7327 unique terms than the expert set of unique 2000 terms. When taking the search frequency into account, the results are similar."
     ]
    },
    {
     "cell_type": "code",
     "collapsed": false,
     "input": [
      "# load data\n",
      "with open('data/crowd.csv') as f:\n",
      "    reader = csv.reader(f)\n",
      "    reader.next() # skip the top row, which contains the header.\n",
      "    \n",
      "    sounds = {'expert':{}, 'crowd':{}}\n",
      "    for row in reader:\n",
      "        sounds['expert'][row[0]] = row[3]\n",
      "        sounds['crowd'][row[0]] = keyword_list(row)\n",
      "        \n",
      "with open('data/search.csv') as f:\n",
      "    reader = csv.reader(f)\n",
      "    search = dict((row[0],row[1]) for row in reader)\n",
      "\n",
      "# add search to sound dict\n",
      "sounds['search'] = {'0': ','.join(search.keys())}\n",
      "\n",
      "# First we detect tags by splitting on commas and periods.\n",
      "sounds = tokenize(sounds)\n",
      "\n",
      "# Create corpus of all tags\n",
      "corpus = create_corpus(sounds)\n",
      "\n",
      "\n",
      "# Run several functions to match similar tags\n",
      "corpus = clean(corpus, check_dashes)\n",
      "corpus = clean(corpus, check_underscores)\n",
      "corpus = clean(corpus, check_strip)\n",
      "corpus = clean(corpus, check_spaces)\n",
      "#corpus = clean(corpus, check_spelling)\n",
      "corpus = clean(corpus, check_order)\n",
      "corpus = clean(corpus, check_morphology)\n",
      "corpus = clean(corpus, check_inclusion)\n",
      "#corpus = clean(corpus, check_substring)\n",
      "corpus = clean(corpus, check_synonyms)\n",
      "\n",
      "\n",
      "#print corpus\n",
      "\n",
      "#print corpus\n",
      "\n",
      "# Create mapping of old to new tags\n",
      "mapping = {old:new for new in corpus for old in corpus[new]}\n",
      "\n",
      "# Replace tags with new in corpus\n",
      "sounds_clean = replace_tags(sounds, mapping)\n",
      "#print sounds\n",
      "\n",
      "# Show results\n",
      "corpuses, vocabs = analyze(sounds_clean)\n",
      "\n",
      "# Vocabulary overlap\n",
      "venn3([vocabs['expert'], vocabs['crowd'], vocabs['search']], ('Experts', 'Crowd', 'Search'))\n",
      "\n",
      "# plot overlap"
     ],
     "language": "python",
     "metadata": {},
     "outputs": [
      {
       "output_type": "stream",
       "stream": "stdout",
       "text": [
        "Tokenized 60072 terms\n",
        "Created corpus of 11146 unique terms\n",
        "11146 was reduced to 11051 using check_dashes\n",
        "11051 was reduced to 11051 using check_underscores\n",
        "11051"
       ]
      },
      {
       "output_type": "stream",
       "stream": "stdout",
       "text": [
        " was reduced to 11022 using check_strip\n",
        "11022"
       ]
      },
      {
       "output_type": "stream",
       "stream": "stdout",
       "text": [
        " was reduced to 10850 using check_spaces\n",
        "10850 was reduced to 10689 using check_order\n",
        "10689 was reduced to 9720 using check_morphology\n",
        "9720"
       ]
      },
      {
       "output_type": "stream",
       "stream": "stdout",
       "text": [
        " was reduced to 9079 using check_inclusion\n",
        "9079"
       ]
      },
      {
       "output_type": "stream",
       "stream": "stdout",
       "text": [
        " was reduced to 8337 using check_synonyms\n",
        "Name      Sounds    Terms    Terms UQ    Terms / Snd    Term len    Words    Words UQ    Words / Term    Sp. Chars    Phrases\n",
        "------  --------  -------  ----------  -------------  ----------  -------  ----------  --------------  -----------  ---------\n",
        "search         1     4999        3667      4999          8.02454     6803        2734         1.85519     1.24618           1\n",
        "expert      2147    19098        1646         8.8952     6.96051    20287        1655        12.325       0.862006          1\n",
        "crowd       2147    35975        5623        16.7559    10.5702     45881        4253         8.15952     0.567636          1"
       ]
      },
      {
       "output_type": "stream",
       "stream": "stdout",
       "text": [
        "\n"
       ]
      },
      {
       "metadata": {},
       "output_type": "pyout",
       "prompt_number": 5,
       "text": [
        "<matplotlib_venn._common.VennDiagram instance at 0x000000000E95A308>"
       ]
      },
      {
       "metadata": {},
       "output_type": "display_data",
       "png": "[encoded data removed]",
       "text": [
        "<matplotlib.figure.Figure at 0xe5e6198>"
       ]
      }
     ],
     "prompt_number": 5
    },
    {
     "cell_type": "code",
     "collapsed": false,
     "input": [
      "#for word in sorted(list(vocabs['search']-vocabs['tags']-vocabs['crowd'])):\n",
      "#    print word\n",
      "\n",
      "cars = {sound:sounds_clean['crowd'][sound].count('car') for sound in sounds_clean['crowd'] if 'car' in sounds_clean['crowd'][sound]}\n",
      "\n",
      "for w in sorted(cars, key=cars.get, reverse=True):\n",
      "  print w, cars[w]"
     ],
     "language": "python",
     "metadata": {},
     "outputs": [
      {
       "output_type": "stream",
       "stream": "stdout",
       "text": [
        "220787 14\n",
        "538 5\n",
        "57632 4\n",
        "18592 4\n",
        "120484 4\n",
        "79555 4\n",
        "58539 3\n",
        "153422 3\n",
        "135897 3\n",
        "58543 3\n",
        "144117 3\n",
        "220456 3\n",
        "165642 3\n",
        "79559 3\n",
        "19005 3\n",
        "123253 2\n",
        "49100 2\n",
        "220847 2\n",
        "58538 2\n",
        "68036 2\n",
        "58530 2\n",
        "24163 2\n",
        "57631 2\n",
        "54730 2\n",
        "141450 2\n",
        "29638 2\n",
        "156603 2\n",
        "17557 2\n",
        "158631 2\n",
        "48667 2\n",
        "160749 2\n",
        "78869 2\n",
        "106601 2\n",
        "31970 2\n",
        "133847 2\n",
        "138207 2\n",
        "109018 2\n",
        "22795 2\n",
        "72674 2\n",
        "30315 2\n",
        "116599 2\n",
        "17950 2\n",
        "136876 2\n",
        "106599 2\n",
        "59628 2\n",
        "136767 2\n",
        "119551 2\n",
        "146260 2\n",
        "85444 2\n",
        "143211 2\n",
        "155881 2\n",
        "81555 2\n",
        "5638 2\n",
        "26100 2\n",
        "109044 2\n",
        "79557 2\n",
        "79551 2\n",
        "104349 2\n",
        "30184 1\n",
        "30183 1\n",
        "7810 1\n",
        "18764 1\n",
        "155914 1\n",
        "165167 1\n",
        "147428 1\n",
        "63658 1\n",
        "54299 1\n",
        "166098 1\n",
        "79021 1\n",
        "46226 1\n",
        "6244 1\n",
        "39070 1\n",
        "37918 1\n",
        "168308 1\n",
        "48342 1\n",
        "25213 1\n",
        "15296 1\n",
        "147430 1\n",
        "17011 1\n",
        "16876 1\n",
        "220855 1\n",
        "70160 1\n",
        "39072 1\n",
        "220850 1\n",
        "58541 1\n",
        "79287 1\n",
        "54512 1\n",
        "33006 1\n",
        "136622 1\n",
        "46254 1\n",
        "14111 1\n",
        "17558 1\n",
        "3639 1\n",
        "135451 1\n",
        "78866 1\n",
        "133898 1\n",
        "59669 1\n",
        "48669 1\n",
        "118713 1\n",
        "48665 1\n",
        "48664 1\n",
        "118719 1\n",
        "28237 1\n",
        "220864 1\n",
        "155911 1\n",
        "99029 1\n",
        "133955 1\n",
        "118225 1\n",
        "69673 1\n",
        "158834 1\n",
        "158831 1\n",
        "155158 1\n",
        "14900 1\n",
        "47825 1\n",
        "137949 1\n",
        "78865 1\n",
        "20746 1\n",
        "54303 1\n",
        "16894 1\n",
        "127538 1\n",
        "20743 1\n",
        "147797 1\n",
        "116602 1\n",
        "118233 1\n",
        "118231 1\n",
        "124691 1\n",
        "108975 1\n",
        "19488 1\n",
        "136818 1\n",
        "27535 1\n",
        "121811 1\n",
        "26147 1\n",
        "24365 1\n",
        "157041 1\n",
        "6506 1\n",
        "125611 1\n",
        "136722 1\n",
        "15931 1\n",
        "84602 1\n",
        "126551 1\n",
        "34186 1\n",
        "16882 1\n",
        "58851 1\n",
        "164007 1\n",
        "58439 1\n",
        "147906 1\n",
        "109057 1\n",
        "69697 1\n",
        "108979 1\n",
        "62467 1\n",
        "137896 1\n",
        "33070 1\n",
        "49972 1\n",
        "109019 1\n",
        "35097 1\n",
        "18750 1\n",
        "117743 1\n",
        "136866 1\n",
        "136715 1\n",
        "26138 1\n",
        "90882 1\n",
        "108976 1\n",
        "69127 1\n",
        "32990 1\n",
        "30643 1\n",
        "37899 1\n",
        "109005 1\n",
        "72571 1\n",
        "85307 1\n",
        "66264 1\n",
        "165643 1\n",
        "109025 1\n",
        "37254 1\n",
        "137917 1\n",
        "32575 1\n",
        "29648 1\n",
        "158789 1\n",
        "158788 1\n",
        "158786 1\n",
        "136705 1\n",
        "46247 1\n",
        "61688 1\n",
        "136763 1\n",
        "102689 1\n",
        "102458 1\n",
        "146263 1\n",
        "33298 1\n",
        "27571 1\n",
        "133919 1\n",
        "20819 1\n",
        "42093 1\n",
        "113129 1\n",
        "57019 1\n",
        "136845 1\n",
        "158805 1\n",
        "108987 1\n",
        "133958 1\n",
        "155882 1\n",
        "33538 1\n",
        "155530 1\n",
        "27544 1\n",
        "37560 1\n",
        "27540 1\n",
        "47563 1\n",
        "58523 1\n",
        "9293 1\n",
        "9291 1\n",
        "133925 1\n",
        "43710 1\n",
        "38741 1\n",
        "45155 1\n",
        "57629 1\n",
        "57157 1\n",
        "66109 1\n",
        "69709 1\n",
        "33021 1\n"
       ]
      }
     ],
     "prompt_number": 15
    },
    {
     "cell_type": "markdown",
     "metadata": {},
     "source": [
      "# H3: Crowd tags result in more search matches than expert tags\n",
      "Method: Test search freq of matched terms"
     ]
    },
    {
     "cell_type": "code",
     "collapsed": false,
     "input": [
      "print \"\"\n",
      "print \"Search term coverage:\"\n",
      "print \"Crowd: \", round(float(1133+759)/4999,2)\n",
      "print \"Expert: \", round(float(193+759)/4999,2)\n",
      "print \"Both: \", round(float(1133+193+759)/4999,2)\n",
      "\n",
      "print ''\n",
      "print 'Search matches'\n",
      "\n",
      "search_count = search\n",
      "\n",
      "def tokens(s):\n",
      "    return sum(int(search_count[k]) for k in s if k in search_count)\n",
      "\n",
      "crowd_tmps = [tokens(set(sounds['crowd'][i])&corpuses['search']) for i in sounds['crowd']]\n",
      "print 'Crowd: ', float(sum(crowd_tmps))/len(crowd_tmps)\n",
      "\n",
      "expert_tmps = [tokens(set(sounds['expert'][i])&corpuses['search']) for i in sounds['crowd']]\n",
      "print 'Expert: ', float(sum(expert_tmps))/len(expert_tmps)\n",
      "\n",
      "combined_tmps = [tokens((set(sounds['expert'][i])|set(sounds['crowd'][i]))&corpuses['search']) for i in sounds['crowd']]\n",
      "print 'Combined: ', float(sum(combined_tmps))/len(combined_tmps)\n",
      "\n",
      "\n",
      "\n",
      "print \"\"\n",
      "print 'Matches per sound:'\n",
      "\n",
      "crowd_mps = [len(set(sounds['crowd'][i])&corpuses['search']) for i in sounds['crowd']]\n",
      "print 'Crowd: ', float(sum(crowd_mps))/len(crowd_mps)\n",
      "\n",
      "expert_mps = [len(set(sounds['expert'][i])&corpuses['search']) for i in sounds['crowd']]\n",
      "print 'Expert: ', float(sum(expert_mps))/len(expert_mps)\n",
      "\n",
      "combined_mps = [len((set(sounds['expert'][i])|set(sounds['crowd'][i]))&corpuses['search']) for i in sounds['crowd']]\n",
      "print 'Both: ', float(sum(combined_mps))/len(combined_mps)\n",
      "\n",
      "#print expert_tmps\n"
     ],
     "language": "python",
     "metadata": {},
     "outputs": [
      {
       "output_type": "stream",
       "stream": "stdout",
       "text": [
        "\n",
        "Search term coverage:\n",
        "Crowd:  0.38\n",
        "Expert:  0.19\n",
        "Both:  0.42\n",
        "\n",
        "Search matches\n",
        "Crowd:  31072.6548673\n",
        "Expert: "
       ]
      },
      {
       "output_type": "stream",
       "stream": "stdout",
       "text": [
        " 24246.6688402\n",
        "Combined: "
       ]
      },
      {
       "output_type": "stream",
       "stream": "stdout",
       "text": [
        " 51666.3642292\n",
        "\n",
        "Matches per sound based on search freq:\n",
        "Crowd:  10.3833255706\n",
        "Expert:  7.00093153237\n",
        "Both:  16.6371681416\n"
       ]
      }
     ],
     "prompt_number": 84
    },
    {
     "cell_type": "markdown",
     "metadata": {},
     "source": [
      "# H3: There is a syntactic difference in words used in the expert, crowd and search tags. \n",
      "Method: Compare syntactic word use\n",
      "\n",
      "Categorize the terms based on lexical categories using the NLTK toolset.\n",
      "\n",
      "The types can be seen at http://www.ling.upenn.edu/courses/Fall_2003/ling001/penn_treebank_pos.html"
     ]
    },
    {
     "cell_type": "code",
     "collapsed": false,
     "input": [
      "lex = {}\n",
      "lex_freq = {}\n",
      "types = ['NOUN', 'VERB', 'ADJ']\n",
      "\n",
      "for corp in corpuses:\n",
      "    lex[corp] = lexical_types(corpuses[corp])\n",
      "    lex_total = sum([len(lex[corp][col]) for col in lex[corp]])\n",
      "    lex_freq[corp] = {col:round(len(lex[corp][col]) / float(lex_total),3) for col in types}\n",
      "    lex_freq[corp]['name'] = corp"
     ],
     "language": "python",
     "metadata": {},
     "outputs": []
    },
    {
     "cell_type": "code",
     "collapsed": true,
     "input": [
      "# print all results in a table\n",
      "print tabulate([lex_freq[col] for col in lex_freq], headers='keys')\n",
      "figure(1)\n",
      "subplot(131)\n",
      "venn3([set(lex['crowd']['ADV']), set(lex['expert']['ADV']), set(lex['search']['ADV'])], ('Crowd ADV', 'Expert ADV', 'Search ADV'))\n",
      "subplot(132)\n",
      "venn3([set(lex['crowd']['VERB']), set(lex['expert']['VERB']), set(lex['search']['VERB'])], ('Crowd VERB', 'Expert VERB', 'Search VERB'))\n",
      "subplot(133)\n",
      "venn3([set(lex['crowd']['ADJ']), set(lex['expert']['ADJ']), set(lex['search']['ADJ'])], ('Crowd ADJ', 'Expert ADJ', 'Search ADJ'))\n",
      "show()\n",
      "\n",
      "figure(1)\n",
      "plot = 141\n",
      "for l in ['crowd','expert','combined','search']:\n",
      "    D = lex_freq[l]\n",
      "    subplot(plot)\n",
      "    plt.bar([1,2,3], [D['ADJ'], D['VERB'], D['NOUN']], align='center')\n",
      "    plt.ylim([0,.8])\n",
      "    plt.xlabel(l)\n",
      "    plt.xticks([1,2,3], D.keys())\n",
      "    plot = plot + 1\n",
      "plt.show()\n",
      "\n",
      "f_val, p_val = sts.f_oneway([\n",
      "    lex_freq['crowd']['ADJ'],\n",
      "    lex_freq['crowd']['VERB'],\n",
      "    lex_freq['crowd']['NOUN']],[\n",
      "    lex_freq['expert']['ADJ'],\n",
      "    lex_freq['expert']['VERB'],\n",
      "    lex_freq['expert']['NOUN']])\n",
      "print \"Crowd and Expert t-test, P =\", p_val"
     ],
     "language": "python",
     "metadata": {},
     "outputs": [
      {
       "output_type": "stream",
       "stream": "stdout",
       "text": [
        "  ADJ    VERB    NOUN  name\n",
        "-----  ------  ------  -----------\n",
        "0.064   0.167   0.712  search\n",
        "0.053   0.197   0.711  search_head\n",
        "0.092   0.217   0.568  crowd\n",
        "0.1     0.206   0.575  combined\n",
        "0.064   0.166   0.712  search_tail\n",
        "0.148   0.111   0.686  expert\n"
       ]
      },
      {
       "metadata": {},
       "output_type": "display_data",
       "png": "[encoded data removed]",
       "text": [
        "<matplotlib.figure.Figure at 0x16c455f8>"
       ]
      },
      {
       "metadata": {},
       "output_type": "display_data",
       "png": "[encoded data removed]",
       "text": [
        "<matplotlib.figure.Figure at 0xe0501d0>"
       ]
      },
      {
       "output_type": "stream",
       "stream": "stdout",
       "text": [
        "Crowd and Expert t-test, P = 0.927537192149\n"
       ]
      }
     ],
     "prompt_number": 83
    },
    {
     "cell_type": "markdown",
     "metadata": {},
     "source": [
      "# H4: There is a difference in terms used to describe short and long sounds\n",
      "Method: Sound length sets comparison (short-med-long)\n"
     ]
    },
    {
     "cell_type": "code",
     "collapsed": false,
     "input": [
      "print 'Sounds based on length'\n",
      "lengths = sound_lengths()\n",
      "sounds_long = [i for i in lengths if 10<=lengths[i]]\n",
      "sounds_med = [i for i in lengths if 5<=lengths[i]<10]\n",
      "sounds_short = [i for i in lengths if lengths[i]<5]\n",
      "\n",
      "# get subsets of long, med and short sounds for the expert and crowd sets\n",
      "coll_lms = {}\n",
      "coll_lms['expert_long'] = {sound:collections['expert'][sound] for sound in collections['expert'] if sound in sounds_long}\n",
      "coll_lms['crowd_long'] = {sound:collections['crowd'][sound] for sound in collections['crowd'] if sound in sounds_long}\n",
      "coll_lms['expert_med'] = {sound:collections['expert'][sound] for sound in collections['expert'] if sound in sounds_med}\n",
      "coll_lms['crowd_med'] = {sound:collections['crowd'][sound] for sound in collections['crowd'] if sound in sounds_med}\n",
      "coll_lms['expert_short'] = {sound:collections['expert'][sound] for sound in collections['expert'] if sound in sounds_short}\n",
      "coll_lms['crowd_short'] = {sound:collections['crowd'][sound] for sound in collections['crowd'] if sound in sounds_short}\n",
      "\n",
      "corpuses_lms, stats_lms = create_corpuses(coll_lms)\n",
      "analyze(corpuses_lms, stats_lms)\n",
      "\n",
      "lex = {}\n",
      "lex_freq = {}\n",
      "types = ['NOUN', 'VERB', 'ADJ'] \n",
      "for corp in corpuses_lms:\n",
      "    lex[corp] = lexical_types(corpuses_lms[corp])\n",
      "    lex_total = sum([len(lex[corp][col]) for col in lex[corp]])\n",
      "    lex_freq[corp] = {col:round(len(lex[corp][col]) / float(lex_total),3) for col in types}\n",
      "    lex_freq[corp]['name'] = corp"
     ],
     "language": "python",
     "metadata": {},
     "outputs": [
      {
       "output_type": "stream",
       "stream": "stdout",
       "text": [
        "Sounds based on length\n",
        "Name            Sounds    Terms    Terms / Sound    Unique Terms    Term length    Words per Term    Special Chars    Phrases\n",
        "------------  --------  -------  ---------------  --------------  -------------  ----------------  ---------------  ---------\n",
        "expert_long        321     3058                9             935        6.65882           1               2.10247     1\n",
        "expert_short      1595    13984                8            1321        6.57305           1               0.760682    1\n",
        "crowd_short       1595    20694               12            5181        9.99923           1.6574          0.900069    1.0027\n",
        "crowd_long         321     5962               18            2536       10.7066            1.68927         0.747201    1.00513\n",
        "expert_med         231     2054                8             572        6.70979           1               1.04325     1\n",
        "crowd_med          231     3633               15            1566        9.49361           1.54917         0.421336    1.00702"
       ]
      },
      {
       "output_type": "stream",
       "stream": "stdout",
       "text": [
        "\n"
       ]
      }
     ],
     "prompt_number": 88
    },
    {
     "cell_type": "code",
     "collapsed": false,
     "input": [
      "print tabulate([lex_freq[col] for col in lex_freq], headers=\"keys\")\n",
      "\n",
      "f_val, p_val = sts.f_oneway([\n",
      "    lex_freq['crowd_short']['ADJ'],\n",
      "    lex_freq['crowd_short']['VERB'],\n",
      "    lex_freq['crowd_short']['NOUN']],[\n",
      "    lex_freq['crowd_med']['ADJ'],\n",
      "    lex_freq['crowd_med']['VERB'],\n",
      "    lex_freq['crowd_med']['NOUN']],[\n",
      "    lex_freq['crowd_long']['ADJ'],\n",
      "    lex_freq['crowd_long']['VERB'],\n",
      "    lex_freq['crowd_long']['NOUN']])\n",
      "print \"Crowd short-med-long ANOVA test, F = \", f_val , \" P =\", p_val\n",
      "\n",
      "f_val, p_val = sts.f_oneway([\n",
      "    lex_freq['expert_short']['ADJ'],\n",
      "    lex_freq['expert_short']['VERB'],\n",
      "    lex_freq['expert_short']['NOUN']],[\n",
      "    lex_freq['expert_med']['ADJ'],\n",
      "    lex_freq['expert_med']['VERB'],\n",
      "    lex_freq['expert_med']['NOUN']],[\n",
      "    lex_freq['expert_long']['ADJ'],\n",
      "    lex_freq['expert_long']['VERB'],\n",
      "    lex_freq['expert_long']['NOUN']])\n",
      "print \"Crowd short-med-long ANOVA test, F = \", f_val , \" P =\", p_val\n",
      "\n",
      "figure(1)\n",
      "plot = 131\n",
      "for l in ['crowd_short','crowd_med','crowd_long']:\n",
      "    D = lex_freq[l]\n",
      "    subplot(plot)\n",
      "    plt.bar([1,2,3], [D['ADJ'], D['VERB'], D['NOUN']], align='center')\n",
      "    plt.ylim([0,.8])\n",
      "    plt.xlabel(l)\n",
      "    plt.xticks([1,2,3], D.keys())\n",
      "    plot = plot + 1\n",
      "plt.show()\n",
      "\n",
      "figure(2)\n",
      "plot = 131\n",
      "for l in ['expert_short','expert_med','expert_long']:\n",
      "    D = lex_freq[l]\n",
      "    subplot(plot)\n",
      "    plt.bar([1,2,3], [D['ADJ'], D['VERB'], D['NOUN']], align='center')\n",
      "    plt.ylim([0,.8])\n",
      "    plt.xlabel(l)\n",
      "    plt.xticks([1,2,3], D.keys())\n",
      "    plot = plot + 1\n",
      "plt.show()"
     ],
     "language": "python",
     "metadata": {},
     "outputs": [
      {
       "output_type": "stream",
       "stream": "stdout",
       "text": [
        "  ADJ    VERB    NOUN  name\n",
        "-----  ------  ------  ------------\n",
        "0.142   0.121   0.684  expert_long\n",
        "0.148   0.104   0.695  expert_short\n",
        "0.095   0.208   0.593  crowd_short\n",
        "0.086   0.238   0.559  crowd_long\n",
        "0.156   0.075   0.715  expert_med\n",
        "0.094   0.217   0.562  crowd_med\n",
        "Crowd short-med-long ANOVA test, F =  0.000717593633379  P = 0.999282749524\n",
        "Crowd short-med-long ANOVA test, F =  1.00490292166e-06  P = 0.999998995098\n"
       ]
      },
      {
       "metadata": {},
       "output_type": "display_data",
       "png": "[encoded data removed]",
       "text": [
        "<matplotlib.figure.Figure at 0x1a1ca2e8>"
       ]
      },
      {
       "metadata": {},
       "output_type": "display_data",
       "png": "[encoded data removed]",
       "text": [
        "<matplotlib.figure.Figure at 0x16711780>"
       ]
      }
     ],
     "prompt_number": 103
    },
    {
     "cell_type": "code",
     "collapsed": false,
     "input": [
      "# TODO:\n",
      "# Especially interesting is to see whether this also happens with common tags:\n",
      "# how many commonly occurring tags are not added by the author, but are added by the crowd?\n",
      "# (again improving retrieval rate) We can operationalize the concept of \u2018commonly occurring\u2019 in two ways:\n",
      "# (i) common in the database and (ii) common in the queries.\n",
      "\n",
      "# MPS: matches per sound.\n",
      "\n",
      "freesound_mps = [len(fsd[i]&sd) for i in id_cd]\n",
      "crowd_mps = [len(cd[i]&sd) for i in id_cd]\n",
      "# Combined takes the keywords provided by the crowd together with those from Freesound.\n",
      "combined_mps = [len((cd[i]|fsd[i])&sd) for i in id_cd]\n",
      "# Crowd completion is a bit more conservative in that it only adds crowd tags that occur in Freesound.\n",
      "crowd_completion = [len(((cd[i]&freesound_corpus)|fsd[i])&sd) for i in id_cd]\n",
      "\n",
      "print 'MPS'\n",
      "print 'freesound mps: ', float(sum(freesound_mps))/len(freesound_mps)\n",
      "print 'crowd mps: ', float(sum(crowd_mps))/len(crowd_mps)\n",
      "print 'combined mps: ', float(sum(combined_mps))/len(combined_mps)\n",
      "\n",
      "print 'crowd completion mps: ', float(sum(crowd_completion))/len(crowd_completion)  "
     ],
     "language": "python",
     "metadata": {},
     "outputs": [
      {
       "ename": "NameError",
       "evalue": "name 'id_cd' is not defined",
       "output_type": "pyerr",
       "traceback": [
        "\u001b[1;31m---------------------------------------------------------------------------\u001b[0m\n\u001b[1;31mNameError\u001b[0m                                 Traceback (most recent call last)",
        "\u001b[1;32m<ipython-input-10-8fce6ee47e5c>\u001b[0m in \u001b[0;36m<module>\u001b[1;34m()\u001b[0m\n\u001b[0;32m      6\u001b[0m \u001b[1;33m\u001b[0m\u001b[0m\n\u001b[0;32m      7\u001b[0m \u001b[1;31m# MPS: matches per sound.\u001b[0m\u001b[1;33m\u001b[0m\u001b[1;33m\u001b[0m\u001b[0m\n\u001b[1;32m----> 8\u001b[1;33m \u001b[0mfreesound_mps\u001b[0m \u001b[1;33m=\u001b[0m \u001b[1;33m[\u001b[0m\u001b[0mlen\u001b[0m\u001b[1;33m(\u001b[0m\u001b[0mfsd\u001b[0m\u001b[1;33m[\u001b[0m\u001b[0mi\u001b[0m\u001b[1;33m]\u001b[0m\u001b[1;33m&\u001b[0m\u001b[0msd\u001b[0m\u001b[1;33m)\u001b[0m \u001b[1;32mfor\u001b[0m \u001b[0mi\u001b[0m \u001b[1;32min\u001b[0m \u001b[0mid_cd\u001b[0m\u001b[1;33m]\u001b[0m\u001b[1;33m\u001b[0m\u001b[0m\n\u001b[0m\u001b[0;32m      9\u001b[0m \u001b[0mcrowd_mps\u001b[0m \u001b[1;33m=\u001b[0m \u001b[1;33m[\u001b[0m\u001b[0mlen\u001b[0m\u001b[1;33m(\u001b[0m\u001b[0mcd\u001b[0m\u001b[1;33m[\u001b[0m\u001b[0mi\u001b[0m\u001b[1;33m]\u001b[0m\u001b[1;33m&\u001b[0m\u001b[0msd\u001b[0m\u001b[1;33m)\u001b[0m \u001b[1;32mfor\u001b[0m \u001b[0mi\u001b[0m \u001b[1;32min\u001b[0m \u001b[0mid_cd\u001b[0m\u001b[1;33m]\u001b[0m\u001b[1;33m\u001b[0m\u001b[0m\n\u001b[0;32m     10\u001b[0m \u001b[1;31m# Combined takes the keywords provided by the crowd together with those from Freesound.\u001b[0m\u001b[1;33m\u001b[0m\u001b[1;33m\u001b[0m\u001b[0m\n",
        "\u001b[1;31mNameError\u001b[0m: name 'id_cd' is not defined"
       ]
      }
     ],
     "prompt_number": 10
    },
    {
     "cell_type": "markdown",
     "metadata": {},
     "source": [
      "# Subjectiveness\n",
      "In order to see whether the terms used are subjective, we use the subjectiveness dataset subjclueslen1-HLTEMNLP05.tff which was created by:\n",
      "\n",
      "Theresa Wilson, Janyce Wiebe and Paul Hoffmann (2005). Recognizing Contextual \n",
      "Polarity in Phrase-Level Sentiment Analysis. Proceedings of HLT/EMNLP 2005,\n",
      "Vancouver, Canada. "
     ]
    },
    {
     "cell_type": "code",
     "collapsed": false,
     "input": [
      "sub = subjectivity()\n",
      "\n",
      "results = {}\n",
      "# get the basis stats for all sets\n",
      "for corpus in corpuses:\n",
      "    subj = 0\n",
      "    subj_weak = 0\n",
      "    subj_strong = 0\n",
      "    pos = 0\n",
      "    neg = 0\n",
      "    terms = len(corpuses[corpus])\n",
      "    \n",
      "    for term in corpuses[corpus]:\n",
      "        for word in term.split(' '):\n",
      "            # if a term has a subjective word\n",
      "            if word in sub:\n",
      "                subj += 1\n",
      "                if sub[word]['t'] == 'strongsubj':\n",
      "                    subj_strong += 1\n",
      "                elif sub[word]['t'] == 'weaksubj':\n",
      "                    subj_weak += 1\n",
      "                if sub[word]['p'] == 'y':\n",
      "                    pos += 1\n",
      "                elif sub[word]['p'] == 'n':\n",
      "                    neg += 1\n",
      "                \n",
      "                break\n",
      "\n",
      "    not_subj = round(float(len(corpuses[corpus]) - subj_weak - subj_strong) / terms,3)\n",
      "    subj_weak = round(float(subj_weak) / terms,3)\n",
      "    subj_strong = round(float(subj_strong) / terms,3)\n",
      "    pos = round(float(pos) / terms,3)\n",
      "    neg = round(float(neg) / terms,3)\n",
      "    subj = round(float(subj) / terms,3)\n",
      "    \n",
      "    results[corpus] = [terms, not_subj, subj, subj_weak, subj_strong, pos, neg]\n",
      "\n",
      "# print all results in a table\n",
      "print tabulate([[col]+results[col] for col in results], headers=['Name', 'Terms', 'Not Subj', 'Subj', 'Str-Weak', 'Str-Strong', 'Sent-Pos', 'Sent-Neg'])"
     ],
     "language": "python",
     "metadata": {},
     "outputs": [
      {
       "output_type": "stream",
       "stream": "stdout",
       "text": [
        "Name           Terms    Not Subj    Subj    Str-Weak    Str-Strong    Sent-Pos    Sent-Neg\n",
        "-----------  -------  ----------  ------  ----------  ------------  ----------  ----------\n",
        "search          4999       0.79    0.21        0.119         0.091       0.079       0.131\n",
        "search_head       52       0.769   0.231       0.058         0.173       0.173       0.058\n",
        "crowd           7327       0.799   0.201       0.139         0.062       0.053       0.148\n",
        "combined        8389       0.816   0.184       0.126         0.058       0.049       0.135\n",
        "search_tail     4946       0.79    0.21        0.119         0.09        0.078       0.132\n",
        "expert          2000       0.888   0.112       0.068         0.044       0.037       0.074\n"
       ]
      }
     ],
     "prompt_number": 108
    },
    {
     "cell_type": "code",
     "collapsed": false,
     "input": [
      "# Specificness\n",
      "\n",
      "\n",
      "\n",
      "\n",
      "def tokens(s):\n",
      "    dist = []\n",
      "    for k in s:\n",
      "        if(wordnet.synsets(k)):\n",
      "            dist.append(wordnet.synsets(k)[0].min_depth())\n",
      "    return sum(dist)/len(dist)\n",
      "\n",
      "\n",
      "print \"Specificness of terms:\"\n",
      "crowd_tmps = [tokens(set(sounds['crowd'][i])&corpuses['search']) for i in sounds['crowd']]\n",
      "print 'Crowd: ', float(sum(crowd_tmps))/len(crowd_tmps)\n",
      "\n",
      "expert_tmps = [tokens(set(sounds['expert'][i])&corpuses['search']) for i in sounds['crowd']]\n",
      "print 'Expert: ', float(sum(expert_tmps))/len(expert_tmps)\n",
      "\n",
      "combined_tmps = [tokens((set(sounds['expert'][i])|set(sounds['crowd'][i]))&corpuses['search']) for i in sounds['crowd']]\n",
      "print 'Combined: ', float(sum(combined_tmps))/len(combined_tmps)"
     ],
     "language": "python",
     "metadata": {},
     "outputs": [
      {
       "output_type": "stream",
       "stream": "stdout",
       "text": [
        " Specificness of terms:\n",
        "Crowd: "
       ]
      },
      {
       "output_type": "stream",
       "stream": "stdout",
       "text": [
        " 6.13227759665\n",
        "Expert: "
       ]
      },
      {
       "output_type": "stream",
       "stream": "stdout",
       "text": [
        " nan\n",
        "Combined: "
       ]
      },
      {
       "output_type": "stream",
       "stream": "stdout",
       "text": [
        " 6.06474149977\n"
       ]
      }
     ],
     "prompt_number": 124
    },
    {
     "cell_type": "code",
     "collapsed": false,
     "input": [
      "import os\n",
      "import csv\n",
      "import seaborn as sns\n",
      "import pandas as pd\n",
      "\n",
      "def crowd_dict(filename):\n",
      "    \"Create a dictionary: k=id, v=list of tags associated with the id.\"\n",
      "  \n",
      "    # Open the file:\n",
      "    with open(filename) as f:\n",
      "        reader = csv.reader(f)\n",
      "        reader.next() # skip the top row, which contains the header.\n",
      "        d = {}\n",
      "        for row in reader:\n",
      "            tags = row[35].lower().strip().split(',')\n",
      "            d[row[2]] = [tag.strip() for tag in tags if len(tag.strip()) > 0]\n",
      "        return d\n",
      "\n",
      "corpus = {}\n",
      "for f in os.listdir('0-input-crowd/'):\n",
      "    corpus.update(crowd_dict('0-input-crowd/'+f))\n",
      "\n",
      "term_count = {}\n",
      "avg_term_length = {}\n",
      "avg_word_length = {}\n",
      "for judg in corpus:\n",
      "    # terms in judgment\n",
      "    l = str(len(corpus[judg]))\n",
      "#    if int(l) > 8:\n",
      "#        print corpus[judg]\n",
      "    if l not in term_count:\n",
      "        term_count[l] = 0\n",
      "    term_count[l] += 1\n",
      "    \n",
      "    # average term length in judgment\n",
      "    l = str(sum([len(term) for term in corpus[judg]]) / len(corpus[judg]))\n",
      "#    if int(l) > 30:\n",
      "#        print corpus[judg]\n",
      "    if l not in avg_term_length:\n",
      "        avg_term_length[l] = 0\n",
      "    avg_term_length[l] += 1\n",
      "    \n",
      "    # average word length in judgment\n",
      "    words = [word for word in term.split() for term in corpus[judg]]\n",
      "    l = str(sum([len(word) for word in words]) / len(words))\n",
      "    if int(l) < 3:\n",
      "        print corpus[judg]\n",
      "    if l not in avg_word_length:\n",
      "        avg_word_length[l] = 0\n",
      "    avg_word_length[l] += 1\n",
      "\n",
      "\n",
      "print \"Term freq per annotation:\"\n",
      "figure(1)\n",
      "plt.bar([int(k) for k in term_count.keys()], term_count.values(), align='center')\n",
      "plt.show()\n",
      "\n",
      "\n",
      "#print avg_term_length\n",
      "\n",
      "#print term_length\n",
      "#for a in sort([int(l) for l in avg_term_length]):\n",
      "#    print a,avg_term_length[str(a)]\n",
      "\n",
      "print \"Avg Term length per judgment:\"\n",
      "figure(1)\n",
      "plt.bar([int(k) for k in avg_term_length.keys()], avg_term_length.values(), align='center')\n",
      "plt.show()\n",
      "\n",
      "\n",
      "print \"Avg Term length per judgment:\"\n",
      "figure(1)\n",
      "plt.bar([int(k) for k in avg_word_length.keys()], avg_word_length.values(), align='center')\n",
      "plt.show()\n"
     ],
     "language": "python",
     "metadata": {},
     "outputs": [
      {
       "output_type": "stream",
       "stream": "stdout",
       "text": [
        "['beads', 'in a jar']\n",
        "['in a room']\n",
        "['music', 'stopped', 'by', 'dj']\n",
        "['a beat']\n",
        "['a bomb']\n",
        "['tv off air']\n",
        "['electric music', 'dj']"
       ]
      },
      {
       "output_type": "stream",
       "stream": "stdout",
       "text": [
        "\n",
        "['a low hum']\n",
        "['a man']\n",
        "['a tune']\n",
        "['instrumental', 'flute', 'on key']\n",
        "['a game']\n",
        "['metallic', 'hit', 'bang', 'low fi']"
       ]
      },
      {
       "output_type": "stream",
       "stream": "stdout",
       "text": [
        "\n",
        "['one beat of a drum']\n",
        "['chirp', 'clicking', 'ch']\n",
        "['bo boo']\n",
        "['a ray gun']\n",
        "['aww ah aww vuh']"
       ]
      },
      {
       "output_type": "stream",
       "stream": "stdout",
       "text": [
        "\n",
        "['loud', 'fast', 'high pitched', 'screech', 'scratch', 'ow']\n",
        "['du du']\n",
        "['static', 'tv']\n",
        "['a tpa']\n",
        "['a pot']\n",
        "['i pad bass app and tune up']\n",
        "['static', 'tv']\n",
        "['slide', 'music', 'record', 'dj']\n",
        "['a boom']\n",
        "['odd', 'ok']"
       ]
      },
      {
       "output_type": "stream",
       "stream": "stdout",
       "text": [
        "\n",
        "['no elo man']\n",
        "['cool', 'dj']\n",
        "['sound of a car']\n",
        "['ps']\n",
        "['tick on a can']\n",
        "['light switch', 'switch clicking', 'on and off']\n",
        "['dj mix']\n",
        "['insure', 'others', 'ad']\n",
        "['warning', 'serve damage', 'computer', 'computer voice', 'ai']"
       ]
      },
      {
       "output_type": "stream",
       "stream": "stdout",
       "text": [
        "\n",
        "['a bus going by']\n",
        "['insect', 'clicking', 'ch']\n",
        "['er er']\n",
        "['a girl']"
       ]
      },
      {
       "output_type": "stream",
       "stream": "stdout",
       "text": [
        "\n",
        "['electro', 'dj mix']\n",
        "['electrospace', 'electronic', 'space', 'sci fi']\n",
        "['static', 'tv']\n",
        "['a clap']\n",
        "['sci fi']\n",
        "['drum', 'a beat']\n",
        "['clicking', 'chirp', 'ch']\n",
        "['keys', 'a click', 'a tap']\n",
        "['wo wo']"
       ]
      },
      {
       "output_type": "stream",
       "stream": "stdout",
       "text": [
        "\n",
        "['a tap']\n",
        "['hmm', 'buh', 'om']\n",
        "['chirp', 'clicking', 'ch']\n",
        "['laughter', 'ha', 'ha', 'ha', 'ha']\n",
        "['in a room']\n",
        "['digital', 'sci fi']\n",
        "['a hit on a drum.']\n",
        "['a bell']\n",
        "['a pop and rush']\n",
        "['static', 'dial', 'up']\n",
        "['game', 'robot', 'level', '1']\n",
        "['car', 'being', 'gas', 'up']\n",
        "['wind it up']"
       ]
      },
      {
       "output_type": "stream",
       "stream": "stdout",
       "text": [
        "\n",
        "['alarm', 'sci fi']\n",
        "['a dj disc']\n",
        "['vortex', 'space', 'sci fi']\n",
        "['wot de fak']"
       ]
      },
      {
       "output_type": "stream",
       "stream": "stdout",
       "text": [
        "\n",
        "['shh', 'shh', 'shh', 'shh', 'shh', 'shh', 'sh', 'sh', 'sh', 'ssh', 'ssh', 'sh', 'sh', 'sh']\n",
        "['uhm ut uhm']\n",
        "['go go']"
       ]
      },
      {
       "output_type": "stream",
       "stream": "stdout",
       "text": [
        "\n",
        "['a beat']\n",
        "['a dish']\n",
        "['plee', 'uh', 'ee', 'oh']\n",
        "['switch', 'on', 'turning', 'machine', 'on']"
       ]
      },
      {
       "output_type": "stream",
       "stream": "stdout",
       "text": [
        "\n",
        "['drum', 'beats', 'music', 'dj']\n",
        "['toy on']\n",
        "['da da da']"
       ]
      },
      {
       "output_type": "stream",
       "stream": "stdout",
       "text": [
        "\n",
        "['gardens', 'robot voice', 'robotic', 'android', 'words', 'ai']\n",
        "['tap it now']\n",
        "['a tap']\n",
        "['a tap']"
       ]
      },
      {
       "output_type": "stream",
       "stream": "stdout",
       "text": [
        "\n",
        "['boo bi bi']\n",
        "['dj mix']\n",
        "['static', 'tv']"
       ]
      },
      {
       "output_type": "stream",
       "stream": "stdout",
       "text": [
        "\n",
        "['this', 'is', 'weird', 'af']\n",
        "['hitting', '2 hits']\n",
        "Term freq per annotation:\n"
       ]
      },
      {
       "metadata": {},
       "output_type": "display_data",
       "png": "[encoded data removed]",
       "text": [
        "<matplotlib.figure.Figure at 0xbfd15c0>"
       ]
      },
      {
       "output_type": "stream",
       "stream": "stdout",
       "text": [
        "Avg Term length per judgment:\n"
       ]
      },
      {
       "metadata": {},
       "output_type": "display_data",
       "png": "[encoded data removed]",
       "text": [
        "<matplotlib.figure.Figure at 0xbd28940>"
       ]
      },
      {
       "output_type": "stream",
       "stream": "stdout",
       "text": [
        "Avg Term length per judgment:\n"
       ]
      },
      {
       "metadata": {},
       "output_type": "display_data",
       "png": "[encoded data removed]",
       "text": [
        "<matplotlib.figure.Figure at 0xc16ba20>"
       ]
      }
     ],
     "prompt_number": 53
    }
   ],
   "metadata": {}
  }
 ]
}