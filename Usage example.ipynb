{
 "cells": [
  {
   "cell_type": "markdown",
   "metadata": {},
   "source": [
    "# How to access the sound data\n",
    "In this short notebook, we show how to access the sound data and get specific sounds."
   ]
  },
  {
   "cell_type": "code",
   "execution_count": 1,
   "metadata": {
    "collapsed": true
   },
   "outputs": [],
   "source": [
    "from lxml import etree"
   ]
  },
  {
   "cell_type": "code",
   "execution_count": 31,
   "metadata": {
    "collapsed": false
   },
   "outputs": [],
   "source": [
    "# Load the data\n",
    "xml  = etree.parse('./3-results/results.xml')\n",
    "root = xml.getroot()\n",
    "\n",
    "def print_xml(el):\n",
    "    \"Helper function to show XML.\"\n",
    "    return print(etree.tostring(el).decode('unicode_escape'))"
   ]
  },
  {
   "cell_type": "markdown",
   "metadata": {},
   "source": [
    "# Selecting sounds with particular properties\n",
    "\n",
    "We can use XPATH-expressions to find sounds with particular properties, e.g. with a certain duration or bitdepth."
   ]
  },
  {
   "cell_type": "code",
   "execution_count": 32,
   "metadata": {
    "collapsed": false
   },
   "outputs": [],
   "source": [
    "short_sounds = root.xpath('./sound[starts-with(@duration,\"0.\")]')\n",
    "bitdepth_24  = root.xpath('./sound[@bitdepth=\"24\"]')"
   ]
  },
  {
   "cell_type": "markdown",
   "metadata": {},
   "source": [
    "Or use the metadata of the sound to find the recordings you're after:"
   ]
  },
  {
   "cell_type": "code",
   "execution_count": 33,
   "metadata": {
    "collapsed": true
   },
   "outputs": [],
   "source": [
    "def sounds_by_description(word):\n",
    "    \"Find sounds by their description.\"\n",
    "    for sound in root.iterfind('sound'):\n",
    "        description = sound.find('description')\n",
    "        if word in description.text:\n",
    "            yield sound"
   ]
  },
  {
   "cell_type": "code",
   "execution_count": 34,
   "metadata": {
    "collapsed": false
   },
   "outputs": [
    {
     "name": "stdout",
     "output_type": "stream",
     "text": [
      "<sound id=\"7166\" name=\"pwm11.wav\" url=\"https://www.freesound.org/people/rossb/sounds/7166/\" type=\"wav\" samplerate=\"44100\" license=\"http://creativecommons.org/licenses/by/3.0/\" duration=\"20.83446712\" channels=\"1\" bitrate=\"705\" bitdepth=\"16\">\n",
      "    <description>glitchy modem-type noises #8, changing periodically a bit like sample and hold, random walk through a parameter space, quite noisy. (similar to #10 except more frenetic). these sounds were the results of an experimental program i wrote to see what could be (really) efficiently synthesized using only a few instructions on an 8 bit device. the parameters were randomly modulated. i later used them for a piece called 'no noise is good noise'. the source code was posted to the music-dsp mailing list but i can't find it right now.</description>\n",
      "    <ratings>\n",
      "      <clarity count=\"x\">0</clarity>\n",
      "      <webrating count=\"17\">3.794117647</webrating>\n",
      "    </ratings>\n",
      "    <author-tags>\n",
      "      <tag label=\"glitch\"/>\n",
      "      <tag label=\"noise\"/>\n",
      "      <tag label=\"noisy\"/>\n",
      "      <tag label=\"synthesized\"/>\n",
      "    </author-tags>\n",
      "    <crowd-tags>\n",
      "      <tag label=\"beep\" count=\"2\" children=\"1\">\n",
      "        <raw label=\"beep\" count=\"2\"/>\n",
      "      </tag>\n",
      "      <tag label=\"loading screen noise\" count=\"1\" children=\"1\">\n",
      "        <raw label=\"loading screen noise\" count=\"1\"/>\n",
      "      </tag>\n",
      "      <tag label=\"modem\" count=\"2\" children=\"1\">\n",
      "        <raw label=\"modem\" count=\"2\"/>\n",
      "      </tag>\n",
      "      <tag label=\"feedback\" count=\"1\" children=\"1\">\n",
      "        <raw label=\"feedback\" count=\"1\"/>\n",
      "      </tag>\n",
      "      <tag label=\"whine\" count=\"1\" children=\"1\">\n",
      "        <raw label=\"whine\" count=\"1\"/>\n",
      "      </tag>\n",
      "      <tag label=\"fizz\" count=\"1\" children=\"1\">\n",
      "        <raw label=\"fizz\" count=\"1\"/>\n",
      "      </tag>\n",
      "      <tag label=\"electronic noise\" count=\"1\" children=\"1\">\n",
      "        <raw label=\"electronic noise\" count=\"1\"/>\n",
      "      </tag>\n",
      "      <tag label=\"video\" count=\"1\" children=\"1\">\n",
      "        <raw label=\"video\" count=\"1\"/>\n",
      "      </tag>\n",
      "      <tag label=\"bleeping\" count=\"1\" children=\"1\">\n",
      "        <raw label=\"bleeping\" count=\"1\"/>\n",
      "      </tag>\n",
      "      <tag label=\"electrical\" count=\"2\" children=\"1\">\n",
      "        <raw label=\"electrical\" count=\"2\"/>\n",
      "      </tag>\n",
      "      <tag label=\"old computer\" count=\"3\" children=\"1\">\n",
      "        <raw label=\"old computer\" count=\"3\"/>\n",
      "      </tag>\n",
      "      <tag label=\"buzz\" count=\"1\" children=\"1\">\n",
      "        <raw label=\"buzz\" count=\"1\"/>\n",
      "      </tag>\n",
      "      <tag label=\"static\" count=\"2\" children=\"1\">\n",
      "        <raw label=\"static\" count=\"2\"/>\n",
      "      </tag>\n",
      "      <tag label=\"bellows\" count=\"1\" children=\"1\">\n",
      "        <raw label=\"bellows\" count=\"1\"/>\n",
      "      </tag>\n",
      "      <tag label=\"arcade game\" count=\"2\" children=\"1\">\n",
      "        <raw label=\"arcade game\" count=\"2\"/>\n",
      "      </tag>\n",
      "      <tag label=\"squeal\" count=\"1\" children=\"1\">\n",
      "        <raw label=\"squeal\" count=\"1\"/>\n",
      "      </tag>\n",
      "    </crowd-tags>\n",
      "  </sound>\n",
      "  \n"
     ]
    }
   ],
   "source": [
    "sounds_periodically = sounds_by_description(\"periodically\")\n",
    "print_xml(next(sounds_periodically))"
   ]
  },
  {
   "cell_type": "code",
   "execution_count": 35,
   "metadata": {
    "collapsed": true
   },
   "outputs": [],
   "source": [
    "def sounds_by_author_tag(tag):\n",
    "    \"Find sounds by original tags.\"\n",
    "    for sound in root.iterfind('sound'):\n",
    "        if sound.xpath('./author-tags/tag[@label=\"' + tag + '\"]'):\n",
    "            yield sound"
   ]
  },
  {
   "cell_type": "code",
   "execution_count": 36,
   "metadata": {
    "collapsed": false
   },
   "outputs": [
    {
     "name": "stdout",
     "output_type": "stream",
     "text": [
      "<sound id=\"3639\" name=\"futuretrocomputing_02_suonho.wav\" url=\"https://www.freesound.org/people/suonho/sounds/3639/\" type=\"wav\" samplerate=\"44100\" license=\"http://creativecommons.org/licenses/by/3.0/\" duration=\"5.807891157\" channels=\"2\" bitrate=\"1411\" bitdepth=\"16\">\n",
      "    <description>firstly i've created a few selfmade patcheswith a couple of free virtual analog vsti (synth1 and crystal, mostly)to produce some classic analog computing sounds then i processed all with some cool digital fx (like cyclotron, heizenbox, transverb, etc.)the result is a sort of 'clash' between analog and digital computing sounds</description>\n",
      "    <ratings>\n",
      "      <clarity count=\"x\">0</clarity>\n",
      "      <webrating count=\"36\">4.361111111</webrating>\n",
      "    </ratings>\n",
      "    <author-tags>\n",
      "      <tag label=\"vintage\"/>\n",
      "      <tag label=\"beep\"/>\n",
      "      <tag label=\"synthesizer\"/>\n",
      "      <tag label=\"analog\"/>\n",
      "      <tag label=\"commnication\"/>\n",
      "      <tag label=\"computing\"/>\n",
      "      <tag label=\"digital\"/>\n",
      "      <tag label=\"effect\"/>\n",
      "      <tag label=\"film\"/>\n",
      "      <tag label=\"future\"/>\n",
      "      <tag label=\"fx\"/>\n",
      "      <tag label=\"lab\"/>\n",
      "      <tag label=\"movie\"/>\n",
      "      <tag label=\"oldschool\"/>\n",
      "      <tag label=\"retro\"/>\n",
      "      <tag label=\"sci-fi\"/>\n",
      "      <tag label=\"scoring\"/>\n",
      "      <tag label=\"signal\"/>\n",
      "      <tag label=\"soundeffect\"/>\n",
      "      <tag label=\"soundesign\"/>\n",
      "      <tag label=\"soundtrack\"/>\n",
      "      <tag label=\"space\"/>\n",
      "      <tag label=\"synth\"/>\n",
      "      <tag label=\"bleep\"/>\n",
      "      <tag label=\"computer\"/>\n",
      "    </author-tags>\n",
      "    <crowd-tags>\n",
      "      <tag label=\"synthetic\" count=\"1\" children=\"1\">\n",
      "        <raw label=\"synthetic\" count=\"1\"/>\n",
      "      </tag>\n",
      "      <tag label=\"machine\" count=\"1\" children=\"1\">\n",
      "        <raw label=\"machine\" count=\"1\"/>\n",
      "      </tag>\n",
      "      <tag label=\"glitch\" count=\"1\" children=\"1\">\n",
      "        <raw label=\"glitch\" count=\"1\"/>\n",
      "      </tag>\n",
      "      <tag label=\"electronic\" count=\"2\" children=\"1\">\n",
      "        <raw label=\"electronic\" count=\"2\"/>\n",
      "      </tag>\n",
      "      <tag label=\"abstract\" count=\"1\" children=\"1\">\n",
      "        <raw label=\"abstract\" count=\"1\"/>\n",
      "      </tag>\n",
      "      <tag label=\"random\" count=\"1\" children=\"1\">\n",
      "        <raw label=\"random\" count=\"1\"/>\n",
      "      </tag>\n",
      "      <tag label=\"beep\" count=\"2\" children=\"1\">\n",
      "        <raw label=\"beep\" count=\"2\"/>\n",
      "      </tag>\n",
      "      <tag label=\"computerized\" count=\"1\" children=\"1\">\n",
      "        <raw label=\"computerized\" count=\"1\"/>\n",
      "      </tag>\n",
      "      <tag label=\"computer\" count=\"1\" children=\"1\">\n",
      "        <raw label=\"computer\" count=\"1\"/>\n",
      "      </tag>\n",
      "      <tag label=\"robotic\" count=\"1\" children=\"1\">\n",
      "        <raw label=\"robotic\" count=\"1\"/>\n",
      "      </tag>\n",
      "      <tag label=\"bleeping\" count=\"2\" children=\"1\">\n",
      "        <raw label=\"bleeping\" count=\"2\"/>\n",
      "      </tag>\n",
      "      <tag label=\"gurgling\" count=\"1\" children=\"1\">\n",
      "        <raw label=\"gurgling\" count=\"1\"/>\n",
      "      </tag>\n",
      "      <tag label=\"technology\" count=\"1\" children=\"1\">\n",
      "        <raw label=\"technology\" count=\"1\"/>\n",
      "      </tag>\n",
      "      <tag label=\"spaceship\" count=\"1\" children=\"1\">\n",
      "        <raw label=\"spaceship\" count=\"1\"/>\n",
      "      </tag>\n",
      "    </crowd-tags>\n",
      "  </sound>\n",
      "  \n"
     ]
    }
   ],
   "source": [
    "vintage_sounds = sounds_by_author_tag('vintage')\n",
    "print_xml(next(vintage_sounds))"
   ]
  },
  {
   "cell_type": "code",
   "execution_count": null,
   "metadata": {
    "collapsed": true
   },
   "outputs": [],
   "source": []
  }
 ],
 "metadata": {
  "kernelspec": {
   "display_name": "Python 3",
   "language": "python",
   "name": "python3"
  },
  "language_info": {
   "codemirror_mode": {
    "name": "ipython",
    "version": 3
   },
   "file_extension": ".py",
   "mimetype": "text/x-python",
   "name": "python",
   "nbconvert_exporter": "python",
   "pygments_lexer": "ipython3",
   "version": "3.3.5"
  }
 },
 "nbformat": 4,
 "nbformat_minor": 0
}
